{
 "cells": [
  {
   "cell_type": "markdown",
   "id": "8acf6207",
   "metadata": {},
   "source": [
    "# Merging image IDRID\n"
   ]
  },
  {
   "cell_type": "code",
   "execution_count": 1,
   "id": "004acfdd",
   "metadata": {},
   "outputs": [],
   "source": [
    "import os\n",
    "from pathlib import Path\n",
    "import numpy as np\n",
    "import torch\n",
    "import cv2\n",
    "import matplotlib.pyplot as plt"
   ]
  },
  {
   "cell_type": "code",
   "execution_count": 25,
   "id": "71b46967",
   "metadata": {},
   "outputs": [],
   "source": [
    "base_dir = './data/IDRID/A. Segmentation/2. All Segmentation Groundtruths/a. Training Set'"
   ]
  },
  {
   "cell_type": "code",
   "execution_count": 4,
   "id": "6acef797",
   "metadata": {},
   "outputs": [
    {
     "data": {
      "text/plain": [
       "['3. Hard Exudates',\n",
       " '5. Optic Disc',\n",
       " '1. Microaneurysms',\n",
       " '4. Soft Exudates',\n",
       " '2. Haemorrhages']"
      ]
     },
     "execution_count": 4,
     "metadata": {},
     "output_type": "execute_result"
    }
   ],
   "source": [
    "folder_list = []\n",
    "dirs = os.listdir(base_dir)\n",
    "for file in dirs:\n",
    "    folder_list.append(file)\n",
    "folder_list"
   ]
  },
  {
   "cell_type": "code",
   "execution_count": 5,
   "id": "0e03e1b2",
   "metadata": {},
   "outputs": [],
   "source": [
    "folder_dict = {'_MA.tif' : '1. Microaneurysms',\n",
    "               '_HE.tif' : '2. Haemorrhages',\n",
    "              '_EX.tif' : '3. Hard Exudates',\n",
    "              '_SE.tif' : '4. Soft Exudates',\n",
    "              }"
   ]
  },
  {
   "cell_type": "code",
   "execution_count": 26,
   "id": "2cd098c6",
   "metadata": {},
   "outputs": [],
   "source": [
    "img_dir = './data/IDRID/A. Segmentation/1. Original Images/a. Training Set'\n",
    "image_names = []\n",
    "for file in os.listdir(img_dir):\n",
    "    image_names.append(file.split('.')[0])"
   ]
  },
  {
   "cell_type": "code",
   "execution_count": 27,
   "id": "e9477afc",
   "metadata": {},
   "outputs": [],
   "source": [
    "# image_names"
   ]
  },
  {
   "cell_type": "code",
   "execution_count": 28,
   "id": "c5982127",
   "metadata": {},
   "outputs": [],
   "source": [
    "seg_files_list = []\n",
    "for name in image_names:\n",
    "    seg_list = []\n",
    "    \n",
    "    img_count = 0\n",
    "    for k, v in folder_dict.items():\n",
    "        \n",
    "        file = os.path.join(base_dir, v, name+k)\n",
    "        if os.path.isfile(file):\n",
    "            img = cv2.imread(file)\n",
    "            seg_list.append(img)\n",
    "            img_count += 1\n",
    "            if img_count < 2:\n",
    "                total_seg_img = img\n",
    "            else:\n",
    "                total_seg_img = cv2.addWeighted(total_seg_img, 1.0, img, 1.0, 0)\n",
    "                \n",
    "    save_file = os.path.join(base_dir, 'Full_Segmentation', name + '_SG.tif')            \n",
    "    sv = cv2.imwrite(save_file, total_seg_img)\n",
    "    seg_files_list.append(save_file)"
   ]
  },
  {
   "cell_type": "code",
   "execution_count": null,
   "id": "d2d92aba",
   "metadata": {},
   "outputs": [],
   "source": []
  },
  {
   "cell_type": "code",
   "execution_count": 31,
   "id": "2005d92b",
   "metadata": {},
   "outputs": [],
   "source": [
    "# testing set SG\n",
    "directory1 = './data/IDRID/A. Segmentation/1. Original Images/b. Testing Set'\n",
    "directory2 = './data/IDRID/A. Segmentation/2. All Segmentation Groundtruths/b. Testing Set/Full_Segmentation'\n",
    "base_append_dir1 = 'A. Segmentation/1. Original Images/b. Testing Set/'\n",
    "base_append_dir2 = 'A. Segmentation/2. All Segmentation Groundtruths/b. Testing Set/Full_Segmentation/'"
   ]
  },
  {
   "cell_type": "code",
   "execution_count": 32,
   "id": "73e20310",
   "metadata": {},
   "outputs": [],
   "source": [
    "# Training set SG\n",
    "directory1 = './data/IDRID/A. Segmentation/1. Original Images/a. Training Set'\n",
    "directory2 = './data/IDRID/A. Segmentation/2. All Segmentation Groundtruths/a. Training Set/Full_Segmentation'\n",
    "base_append_dir1 = 'A. Segmentation/1. Original Images/a. Training Set/'\n",
    "base_append_dir2 = 'A. Segmentation/2. All Segmentation Groundtruths/a. Training Set/Full_Segmentation/'"
   ]
  },
  {
   "cell_type": "code",
   "execution_count": 33,
   "id": "b5d35296",
   "metadata": {},
   "outputs": [],
   "source": [
    "orig_image_list = []\n",
    "seg_image_list = []\n",
    "overall_list = []\n",
    "\n",
    "for files in os.listdir(directory1):\n",
    "    \n",
    "    op_seg_file = files.split('.')[0] + '_SG.tif'\n",
    "    f_path = Path('./data/IDRID/' + base_append_dir2 + '/' + op_seg_file)\n",
    "    if f_path.is_file():\n",
    "        orig_image_list.append(base_append_dir1 + files)\n",
    "        seg_image_list.append(base_append_dir2 + op_seg_file)\n",
    "        \n",
    "        orig_img_path = base_append_dir1 + files\n",
    "        seg_img_path = base_append_dir2 + op_seg_file\n",
    "        \n",
    "        overall_list.append(orig_img_path + ',' + seg_img_path + '\\n')\n",
    "        \n",
    "    else:\n",
    "    \n",
    "        print(files, op_seg_file)"
   ]
  },
  {
   "cell_type": "code",
   "execution_count": 34,
   "id": "f386d5be",
   "metadata": {},
   "outputs": [],
   "source": [
    "text_file_name = 'data/IDRID/train_sg.txt'\n",
    "text_file = open(text_file_name,\"w\")\n",
    "text_file.writelines(overall_list)\n",
    "text_file.close()"
   ]
  }
 ],
 "metadata": {
  "kernelspec": {
   "display_name": "Python 3",
   "language": "python",
   "name": "python3"
  },
  "language_info": {
   "codemirror_mode": {
    "name": "ipython",
    "version": 3
   },
   "file_extension": ".py",
   "mimetype": "text/x-python",
   "name": "python",
   "nbconvert_exporter": "python",
   "pygments_lexer": "ipython3",
   "version": "3.6.9"
  }
 },
 "nbformat": 4,
 "nbformat_minor": 5
}
